{
  "nbformat": 4,
  "nbformat_minor": 0,
  "metadata": {
    "colab": {
      "provenance": []
    },
    "kernelspec": {
      "name": "python3",
      "display_name": "Python 3"
    },
    "language_info": {
      "name": "python"
    }
  },
  "cells": [
    {
      "cell_type": "code",
      "execution_count": 5,
      "metadata": {
        "id": "sCoEPOg5qu4C"
      },
      "outputs": [],
      "source": [
        "def InsSort(arr):\n",
        "  for i in range(1, len(arr)):\n",
        "    j = i\n",
        "    while arr[j-1] > arr[j] and j > 0:\n",
        "      arr[j-1], arr[j] = arr[j], arr[j-1]\n",
        "      j -= 1\n",
        "  print(arr)\n"
      ]
    },
    {
      "cell_type": "code",
      "source": [
        "arr = [2,5,6,1,3,4]\n",
        "res = InsSort(arr)\n",
        "#print(res)"
      ],
      "metadata": {
        "colab": {
          "base_uri": "https://localhost:8080/"
        },
        "id": "85YUW6k4rQny",
        "outputId": "ece21814-77c8-447c-b4a5-4184947248ae"
      },
      "execution_count": 6,
      "outputs": [
        {
          "output_type": "stream",
          "name": "stdout",
          "text": [
            "[1, 2, 3, 4, 5, 6]\n"
          ]
        }
      ]
    }
  ]
}