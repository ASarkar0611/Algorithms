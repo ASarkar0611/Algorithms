{
  "nbformat": 4,
  "nbformat_minor": 0,
  "metadata": {
    "colab": {
      "provenance": []
    },
    "kernelspec": {
      "name": "python3",
      "display_name": "Python 3"
    },
    "language_info": {
      "name": "python"
    }
  },
  "cells": [
    {
      "cell_type": "code",
      "execution_count": 3,
      "metadata": {
        "id": "W5kZP8eSYE7E"
      },
      "outputs": [],
      "source": [
        "# Merge sort in python\n",
        "def mergeSort(arr):\n",
        "  if len(arr) > 1:\n",
        "    left_arr = arr[:len(arr)//2]\n",
        "    #print(\"1. left arr -\", left_arr)\n",
        "    right_arr = arr[len(arr)//2:]\n",
        "    #print(\"1. right arr -\", right_arr)\n",
        "\n",
        "    # recursive\n",
        "    mergeSort(left_arr)\n",
        "    mergeSort(right_arr)\n",
        "\n",
        "    # merge\n",
        "    i = 0; j = 0; k = 0\n",
        "    #print(\"2. left arr -\", left_arr)\n",
        "    #print(\"2. right arr -\", right_arr)\n",
        "    while i < len(left_arr) and j < len(right_arr):\n",
        "      if left_arr[i] < right_arr[j]:\n",
        "        arr[k] = left_arr[i]\n",
        "        i +=1\n",
        "      else:\n",
        "        arr[k] = right_arr[j]\n",
        "        j += 1\n",
        "      k +=1\n",
        "    \n",
        "    while i < len(left_arr):\n",
        "      arr[k] = left_arr[i]\n",
        "      i += 1\n",
        "      k += 1\n",
        "    \n",
        "    while j < len(right_arr):\n",
        "      arr[k] = right_arr[j]\n",
        "      j +=1\n",
        "      k += 1\n",
        "  return arr\n",
        "\n"
      ]
    },
    {
      "cell_type": "code",
      "source": [
        "#arr_test = [2,3,5,1,7,4,4,4,2,6,0]\n",
        "arr_test = [2,8,5,3,9,4,1,7]\n",
        "print(mergeSort(arr_test))"
      ],
      "metadata": {
        "colab": {
          "base_uri": "https://localhost:8080/"
        },
        "id": "TMWlwsUXZvkR",
        "outputId": "b3c0cad3-5908-4604-ee55-8a51dba4a940"
      },
      "execution_count": 4,
      "outputs": [
        {
          "output_type": "stream",
          "name": "stdout",
          "text": [
            "1. left arr - [2, 8, 5, 3]\n",
            "1. right arr - [9, 4, 1, 7]\n",
            "1. left arr - [2, 8]\n",
            "1. right arr - [5, 3]\n",
            "1. left arr - [2]\n",
            "1. right arr - [8]\n",
            "2. left arr - [2]\n",
            "2. right arr - [8]\n",
            "1. left arr - [5]\n",
            "1. right arr - [3]\n",
            "2. left arr - [5]\n",
            "2. right arr - [3]\n",
            "2. left arr - [2, 8]\n",
            "2. right arr - [3, 5]\n",
            "1. left arr - [9, 4]\n",
            "1. right arr - [1, 7]\n",
            "1. left arr - [9]\n",
            "1. right arr - [4]\n",
            "2. left arr - [9]\n",
            "2. right arr - [4]\n",
            "1. left arr - [1]\n",
            "1. right arr - [7]\n",
            "2. left arr - [1]\n",
            "2. right arr - [7]\n",
            "2. left arr - [4, 9]\n",
            "2. right arr - [1, 7]\n",
            "2. left arr - [2, 3, 5, 8]\n",
            "2. right arr - [1, 4, 7, 9]\n",
            "[1, 2, 3, 4, 5, 7, 8, 9]\n"
          ]
        }
      ]
    }
  ]
}