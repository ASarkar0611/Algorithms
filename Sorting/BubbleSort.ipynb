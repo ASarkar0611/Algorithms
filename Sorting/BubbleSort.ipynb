{
  "nbformat": 4,
  "nbformat_minor": 0,
  "metadata": {
    "colab": {
      "provenance": []
    },
    "kernelspec": {
      "name": "python3",
      "display_name": "Python 3"
    },
    "language_info": {
      "name": "python"
    }
  },
  "cells": [
    {
      "cell_type": "markdown",
      "source": [],
      "metadata": {
        "id": "V0Fp2LQoStuU"
      }
    },
    {
      "cell_type": "code",
      "source": [
        "def  BubSort(a):\n",
        "  numSwaps = 0\n",
        "  for i in range(len(a)):\n",
        "    for j in range(len(a)-i-1):\n",
        "      if a[j] > a[j+1]:\n",
        "        a[j], a[j+1] = a[j+1], a[j]\n",
        "        numSwaps = numSwaps + 1\n",
        "  print(f\"Array is sorted in {numSwaps} swaps.\")\n",
        "  print(\"First Element -\", a[0])\n",
        "  print(\"Last Element -\", a[-1])\n"
      ],
      "metadata": {
        "id": "CXBMjkVYLv55"
      },
      "execution_count": 24,
      "outputs": []
    },
    {
      "cell_type": "code",
      "source": [
        "a = [6,4,1]\n",
        "BubSort(a)"
      ],
      "metadata": {
        "colab": {
          "base_uri": "https://localhost:8080/"
        },
        "id": "-5JQqrMrNP4w",
        "outputId": "b07c82b2-d304-420c-cad4-2505d1a30918"
      },
      "execution_count": 25,
      "outputs": [
        {
          "output_type": "stream",
          "name": "stdout",
          "text": [
            "Array is sorted in 3 swaps.\n",
            "First Element - 1\n",
            "Last Element - 6\n"
          ]
        }
      ]
    }
  ]
}