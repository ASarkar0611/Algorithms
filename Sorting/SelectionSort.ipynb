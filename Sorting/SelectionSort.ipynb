{
  "nbformat": 4,
  "nbformat_minor": 0,
  "metadata": {
    "colab": {
      "provenance": []
    },
    "kernelspec": {
      "name": "python3",
      "display_name": "Python 3"
    },
    "language_info": {
      "name": "python"
    }
  },
  "cells": [
    {
      "cell_type": "code",
      "execution_count": 2,
      "metadata": {
        "id": "EGV4_QMBxheJ"
      },
      "outputs": [],
      "source": [
        "def SelSort(arr):\n",
        "  #curr_min = arr[0]\n",
        "  for i in range(0, len(arr)-1):\n",
        "    curr_min_idx = i\n",
        "    for j in range(i+1, len(arr)):x\n",
        "      if arr[j] < arr[curr_min_idx]:\n",
        "        curr_min_idx = j\n",
        "    arr[i], arr[curr_min_idx] = arr[curr_min_idx], arr[i]\n",
        "  print(arr)"
      ]
    },
    {
      "cell_type": "code",
      "source": [
        "arr = [2,6,5,1,3,4]\n",
        "SelSort(arr)"
      ],
      "metadata": {
        "colab": {
          "base_uri": "https://localhost:8080/"
        },
        "id": "DWDcbbLFxkPG",
        "outputId": "1ac410db-30bb-48f5-e038-02b52b953d2e"
      },
      "execution_count": 3,
      "outputs": [
        {
          "output_type": "stream",
          "name": "stdout",
          "text": [
            "[1, 2, 3, 4, 5, 6]\n"
          ]
        }
      ]
    }
  ]
}