{
  "cells": [
    {
      "cell_type": "code",
      "execution_count": 2,
      "metadata": {
        "id": "EGV4_QMBxheJ"
      },
      "outputs": [],
      "source": [
        "def SelectionSort(arr):\n",
        "    arr_len = len(arr)\n",
        "    i = 0\n",
        "    # largest = arr[0]\n",
        "    # largest_index = 0\n",
        "    for j in range(arr_len): \n",
        "        print(\"Pass Number:\", j+1)\n",
        "        for i in range(j, arr_len-1):\n",
        "            print(\"Selecting element at\", i)\n",
        "            if arr[i] < arr[i+1]:\n",
        "                print(\"Swapping\")\n",
        "                arr[i], arr[i+1] = arr[i+1], arr[i]\n",
        "    print(arr)\n",
        "            \n",
        "    \n",
        "SelectionSort([156, 141, 35, 94, 88, 61, 111])"
      ]
    }
  ],
  "metadata": {
    "colab": {
      "provenance": []
    },
    "kernelspec": {
      "display_name": "Python 3",
      "name": "python3"
    },
    "language_info": {
      "name": "python"
    }
  },
  "nbformat": 4,
  "nbformat_minor": 0
}
